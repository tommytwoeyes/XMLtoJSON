{
 "cells": [
  {
   "cell_type": "markdown",
   "metadata": {},
   "source": [
    "# XML to JSON\n",
    "\n",
    "##### Objective\n",
    "To develop an open source Python library which will convert XML-encoded data to JSON-encoded data."
   ]
  },
  {
   "cell_type": "code",
   "execution_count": 13,
   "metadata": {
    "collapsed": false
   },
   "outputs": [
    {
     "data": {
      "text/plain": [
       "'{\"catalog\": {\"book\": [{\"@id\": \"bk101\", \"author\": \"Gambardella, Matthew\", \"title\": \"XML Developer\\'s Guide\", \"genre\": \"Computer\", \"price\": \"44.95\", \"publish_date\": \"2000-10-01\", \"description\": \"An in-depth look at creating applications \\\\n      with XML.\"}, {\"@id\": \"bk102\", \"author\": \"Ralls, Kim\", \"title\": \"Midnight Rain\", \"genre\": \"Fantasy\", \"price\": \"5.95\", \"publish_date\": \"2000-12-16\", \"description\": \"A former architect battles corporate zombies, \\\\n      an evil sorceress, and her own childhood to become queen \\\\n      of the world.\"}, {\"@id\": \"bk103\", \"author\": \"Corets, Eva\", \"title\": \"Maeve Ascendant\", \"genre\": \"Fantasy\", \"price\": \"5.95\", \"publish_date\": \"2000-11-17\", \"description\": \"After the collapse of a nanotechnology \\\\n      society in England, the young survivors lay the \\\\n      foundation for a new society.\"}, {\"@id\": \"bk104\", \"author\": \"Corets, Eva\", \"title\": \"Oberon\\'s Legacy\", \"genre\": \"Fantasy\", \"price\": \"5.95\", \"publish_date\": \"2001-03-10\", \"description\": \"In post-apocalypse England, the mysterious \\\\n      agent known only as Oberon helps to create a new life \\\\n      for the inhabitants of London. Sequel to Maeve \\\\n      Ascendant.\"}, {\"@id\": \"bk105\", \"author\": \"Corets, Eva\", \"title\": \"The Sundered Grail\", \"genre\": \"Fantasy\", \"price\": \"5.95\", \"publish_date\": \"2001-09-10\", \"description\": \"The two daughters of Maeve, half-sisters, \\\\n      battle one another for control of England. Sequel to \\\\n      Oberon\\'s Legacy.\"}, {\"@id\": \"bk106\", \"author\": \"Randall, Cynthia\", \"title\": \"Lover Birds\", \"genre\": \"Romance\", \"price\": \"4.95\", \"publish_date\": \"2000-09-02\", \"description\": \"When Carla meets Paul at an ornithology \\\\n      conference, tempers fly as feathers get ruffled.\"}, {\"@id\": \"bk107\", \"author\": \"Thurman, Paula\", \"title\": \"Splish Splash\", \"genre\": \"Romance\", \"price\": \"4.95\", \"publish_date\": \"2000-11-02\", \"description\": \"A deep sea diver finds true love twenty \\\\n      thousand leagues beneath the sea.\"}, {\"@id\": \"bk108\", \"author\": \"Knorr, Stefan\", \"title\": \"Creepy Crawlies\", \"genre\": \"Horror\", \"price\": \"4.95\", \"publish_date\": \"2000-12-06\", \"description\": \"An anthology of horror stories about roaches,\\\\n      centipedes, scorpions  and other insects.\"}, {\"@id\": \"bk109\", \"author\": \"Kress, Peter\", \"title\": \"Paradox Lost\", \"genre\": \"Science Fiction\", \"price\": \"6.95\", \"publish_date\": \"2000-11-02\", \"description\": \"After an inadvertant trip through a Heisenberg\\\\n      Uncertainty Device, James Salway discovers the problems \\\\n      of being quantum.\"}, {\"@id\": \"bk110\", \"author\": \"O\\'Brien, Tim\", \"title\": \"Microsoft .NET: The Programming Bible\", \"genre\": \"Computer\", \"price\": \"36.95\", \"publish_date\": \"2000-12-09\", \"description\": \"Microsoft\\'s .NET initiative is explored in \\\\n      detail in this deep programmer\\'s reference.\"}, {\"@id\": \"bk111\", \"author\": \"O\\'Brien, Tim\", \"title\": \"MSXML3: A Comprehensive Guide\", \"genre\": \"Computer\", \"price\": \"36.95\", \"publish_date\": \"2000-12-01\", \"description\": \"The Microsoft MSXML3 parser is covered in \\\\n      detail, with attention to XML DOM interfaces, XSLT processing, \\\\n      SAX and more.\"}, {\"@id\": \"bk112\", \"author\": \"Galos, Mike\", \"title\": \"Visual Studio 7: A Comprehensive Guide\", \"genre\": \"Computer\", \"price\": \"49.95\", \"publish_date\": \"2001-04-16\", \"description\": \"Microsoft Visual Studio 7 is explored in depth,\\\\n      looking at how Visual Basic, Visual C++, C#, and ASP+ are \\\\n      integrated into a comprehensive development \\\\n      environment.\"}]}}'"
      ]
     },
     "execution_count": 13,
     "metadata": {},
     "output_type": "execute_result"
    }
   ],
   "source": [
    "import xmltodict, json\n",
    "\n",
    "example_xml = \"<library><book><title>Collective Intelligence</title><author>Toby Segram</author><publisher>O'Reilly</publisher></book><book><title>Pragmatic Thinking and Learning</title><author>Andy Hunt</author><publisher>Pragmatic Programmer</publisher></book></library>\"\n",
    "\n",
    "class XMLtoJson(object):\n",
    "    \n",
    "    def __init__(self, xml_string_or_file, debug=False):\n",
    "        self.debug = debug\n",
    "        \n",
    "        # Check if I've been given a file\n",
    "        try:\n",
    "            xml_file = open(xml_string_or_file)\n",
    "            self.xml_string = xml_file.read()\n",
    "        except IOError:\n",
    "            self.xml_string = xml_string_or_file\n",
    "            \n",
    "        self._create_dict()\n",
    "            \n",
    "    def _create_dict(self):\n",
    "        self.data_object = xmltodict.parse(self.xml_string)\n",
    "        if self.debug == True:\n",
    "            print(\"Data object: {0}\".format(self.data_object))\n",
    "            \n",
    "    def get_json(self):\n",
    "        self.json = json.dumps(self.data_object)\n",
    "        return self.json\n",
    "\n",
    "\n",
    "example_xml_file = \"./example.xml\"\n",
    "xmlparser = XMLtoJson(example_xml_file)\n",
    "xmlparser.get_json()"
   ]
  },
  {
   "cell_type": "code",
   "execution_count": null,
   "metadata": {
    "collapsed": true
   },
   "outputs": [],
   "source": []
  }
 ],
 "metadata": {
  "kernelspec": {
   "display_name": "Python 2",
   "language": "python",
   "name": "python2"
  },
  "language_info": {
   "codemirror_mode": {
    "name": "ipython",
    "version": 2
   },
   "file_extension": ".py",
   "mimetype": "text/x-python",
   "name": "python",
   "nbconvert_exporter": "python",
   "pygments_lexer": "ipython2",
   "version": "2.7.10"
  }
 },
 "nbformat": 4,
 "nbformat_minor": 0
}
